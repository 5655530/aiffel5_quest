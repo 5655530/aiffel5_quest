{
 "cells": [
  {
   "cell_type": "code",
   "execution_count": 1,
   "metadata": {
    "collapsed": true,
    "ExecuteTime": {
     "end_time": "2023-06-26T02:08:21.834882Z",
     "start_time": "2023-06-26T02:08:21.820845Z"
    }
   },
   "outputs": [
    {
     "data": {
      "text/plain": "16"
     },
     "execution_count": 1,
     "metadata": {},
     "output_type": "execute_result"
    }
   ],
   "source": [
    "4*4"
   ]
  },
  {
   "cell_type": "code",
   "execution_count": 3,
   "outputs": [
    {
     "data": {
      "text/plain": "'\\t'"
     },
     "execution_count": 3,
     "metadata": {},
     "output_type": "execute_result"
    }
   ],
   "source": [
    "tabline = 'hello\\tpython'\n",
    "tabline[5]\n"
   ],
   "metadata": {
    "collapsed": false,
    "ExecuteTime": {
     "end_time": "2023-06-26T02:50:21.952864Z",
     "start_time": "2023-06-26T02:50:21.950045Z"
    }
   }
  },
  {
   "cell_type": "code",
   "execution_count": 4,
   "outputs": [
    {
     "data": {
      "text/plain": "'\\t'"
     },
     "execution_count": 4,
     "metadata": {},
     "output_type": "execute_result"
    }
   ],
   "source": [
    "tabline = 'hello\\tpython'\n",
    "tabline[5]"
   ],
   "metadata": {
    "collapsed": false,
    "ExecuteTime": {
     "end_time": "2023-06-26T02:50:45.828061Z",
     "start_time": "2023-06-26T02:50:45.824452Z"
    }
   }
  },
  {
   "cell_type": "code",
   "execution_count": 5,
   "outputs": [
    {
     "data": {
      "text/plain": "'\\t'"
     },
     "execution_count": 5,
     "metadata": {},
     "output_type": "execute_result"
    }
   ],
   "source": [
    "tabline = 'hello\\tpython'\n",
    "tabline[5]"
   ],
   "metadata": {
    "collapsed": false,
    "ExecuteTime": {
     "end_time": "2023-06-26T02:51:20.907486Z",
     "start_time": "2023-06-26T02:51:20.898751Z"
    }
   }
  },
  {
   "cell_type": "code",
   "execution_count": null,
   "outputs": [],
   "source": [],
   "metadata": {
    "collapsed": false
   }
  },
  {
   "cell_type": "code",
   "execution_count": 7,
   "outputs": [
    {
     "data": {
      "text/plain": "'동짓달 기나긴 밤을 한 허리를 베어내어봄바람 이불 아래 서리서리 넣었다가'"
     },
     "execution_count": 7,
     "metadata": {},
     "output_type": "execute_result"
    }
   ],
   "source": [
    "# [Playground] 이스케이프 코드를 연습해 보세요. 결과는 하나만 나오니 각 방법을 하나씩 연습해 보세요!\n",
    "# \\n\n",
    "'동짓달 기나긴 밤을 한 허리를 베어내어 \\n봄바람 이불 아래 서리서리 넣었다가'\n",
    "# \\'\n",
    "'동짓달 기나긴 밤을 한 허리를 베어내어 \\'봄바람 이불 아래 서리서리 넣었다가'\n",
    "# \\\"\n",
    "\"동짓달 기나긴 밤을 한 허리를 베어내어 \\\"봄바람 이불 아래 서리서리 넣었다가\"\n",
    "# \\\\\n",
    "\"동짓달 기나긴 밤을 한 허리를 베어내어 \\\\봄바람 이불 아래 서리서리 넣었다가\"\n",
    "# \\t\n",
    "\"동짓달 기나긴 밤을 한 허리를 베어내어 \\t봄바람 이불 아래 서리서리 넣었다가\"\n",
    "# 행 끝 +\\\n",
    "\"동짓달 기나긴 밤을 한 허리를 베어내어\" \\\n",
    "\"봄바람 이불 아래 서리서리 넣었다가\""
   ],
   "metadata": {
    "collapsed": false,
    "ExecuteTime": {
     "end_time": "2023-06-26T03:05:30.309338Z",
     "start_time": "2023-06-26T03:05:30.305937Z"
    }
   }
  },
  {
   "cell_type": "code",
   "execution_count": 10,
   "outputs": [
    {
     "name": "stdout",
     "output_type": "stream",
     "text": [
      "258\n"
     ]
    }
   ],
   "source": [
    "num = '123456789'\n",
    "print(num[-8:-1:3])"
   ],
   "metadata": {
    "collapsed": false,
    "ExecuteTime": {
     "end_time": "2023-06-26T03:16:25.918500Z",
     "start_time": "2023-06-26T03:16:25.916021Z"
    }
   }
  },
  {
   "cell_type": "code",
   "execution_count": 12,
   "outputs": [
    {
     "name": "stdout",
     "output_type": "stream",
     "text": [
      "357\n"
     ]
    }
   ],
   "source": [
    "num = '123456789'\n",
    "print(num[2:7:2])"
   ],
   "metadata": {
    "collapsed": false,
    "ExecuteTime": {
     "end_time": "2023-06-26T03:18:36.351050Z",
     "start_time": "2023-06-26T03:18:36.348240Z"
    }
   }
  },
  {
   "cell_type": "code",
   "execution_count": 13,
   "outputs": [
    {
     "data": {
      "text/plain": "'화이팅'"
     },
     "execution_count": 13,
     "metadata": {},
     "output_type": "execute_result"
    }
   ],
   "source": [
    "a = [1, 2, ['AIFFEL', '화이팅'], 3, 4]\n",
    "a[2][1]"
   ],
   "metadata": {
    "collapsed": false,
    "ExecuteTime": {
     "end_time": "2023-06-26T03:31:38.961918Z",
     "start_time": "2023-06-26T03:31:38.958298Z"
    }
   }
  },
  {
   "cell_type": "code",
   "execution_count": 16,
   "outputs": [
    {
     "name": "stdout",
     "output_type": "stream",
     "text": [
      "2\n"
     ]
    }
   ],
   "source": [
    "c = 10\n",
    "c %= 4\n",
    "print(c)"
   ],
   "metadata": {
    "collapsed": false,
    "ExecuteTime": {
     "end_time": "2023-06-26T03:52:38.181371Z",
     "start_time": "2023-06-26T03:52:38.178310Z"
    }
   }
  },
  {
   "cell_type": "code",
   "execution_count": 17,
   "outputs": [
    {
     "name": "stdout",
     "output_type": "stream",
     "text": [
      "256\n"
     ]
    }
   ],
   "source": [
    "d=2\n",
    "d **= 8\n",
    "print(d)"
   ],
   "metadata": {
    "collapsed": false,
    "ExecuteTime": {
     "end_time": "2023-06-26T03:53:32.288796Z",
     "start_time": "2023-06-26T03:53:32.284867Z"
    }
   }
  },
  {
   "cell_type": "code",
   "execution_count": 24,
   "outputs": [
    {
     "data": {
      "text/plain": "'npe'"
     },
     "execution_count": 24,
     "metadata": {},
     "output_type": "execute_result"
    }
   ],
   "source": [
    "c = 'hello\\tpython'\n",
    "c[-1:-12:-5]"
   ],
   "metadata": {
    "collapsed": false,
    "ExecuteTime": {
     "end_time": "2023-06-26T03:58:58.771517Z",
     "start_time": "2023-06-26T03:58:58.768243Z"
    }
   }
  },
  {
   "cell_type": "code",
   "execution_count": 25,
   "outputs": [
    {
     "name": "stdout",
     "output_type": "stream",
     "text": [
      "자란다자란다파이썬\n"
     ]
    }
   ],
   "source": [
    "quiz_list = ['잘잔다', '잘한다', '자란다', '잘할까', '화이팅', '힘내자']\n",
    "python_list = ['파이썬', 'PYTHON', 'python']\n",
    "\n",
    "answer = quiz_list[2]*2 + python_list[0]\n",
    "print(answer)"
   ],
   "metadata": {
    "collapsed": false,
    "ExecuteTime": {
     "end_time": "2023-06-26T04:01:51.064468Z",
     "start_time": "2023-06-26T04:01:51.059904Z"
    }
   }
  },
  {
   "cell_type": "code",
   "execution_count": 29,
   "outputs": [
    {
     "name": "stdout",
     "output_type": "stream",
     "text": [
      "{'화이트초코', '파인애플피자', '페퍼로니피자', '민트초코'}\n"
     ]
    }
   ],
   "source": [
    "set_a = {'치킨', '민트초코', '파인애플피자'}\n",
    "set_b = {'치킨', '화이트초코', '페퍼로니피자'}\n",
    "\n",
    "answer = set_a ^ set_b\n",
    "print(answer)"
   ],
   "metadata": {
    "collapsed": false,
    "ExecuteTime": {
     "end_time": "2023-06-26T05:06:15.299612Z",
     "start_time": "2023-06-26T05:06:15.296161Z"
    }
   }
  },
  {
   "cell_type": "code",
   "execution_count": 30,
   "outputs": [
    {
     "data": {
      "text/plain": "{'이름': '아이펠', '나이': 35, 'MBTI': 'ESFJ'}"
     },
     "execution_count": 30,
     "metadata": {},
     "output_type": "execute_result"
    }
   ],
   "source": [
    "# 실습퀴즈8. 딕셔너리\n",
    "# 아이펠의 몸무게 정보를 지워주세요.\n",
    "# 딕셔너리에서는 대괄호[] 안에 Key를 입력해야 삭제할 수 있어요.\n",
    "\n",
    "quiz_dic = {'이름':'아이펠', '나이':35, 'MBTI':'ESFJ','몸무게':80}\n",
    "\n",
    "\n",
    "del quiz_dic['몸무게']\n",
    "quiz_dic"
   ],
   "metadata": {
    "collapsed": false,
    "ExecuteTime": {
     "end_time": "2023-06-26T05:07:51.760621Z",
     "start_time": "2023-06-26T05:07:51.755066Z"
    }
   }
  },
  {
   "cell_type": "code",
   "execution_count": 31,
   "outputs": [
    {
     "name": "stdout",
     "output_type": "stream",
     "text": [
      "꽈배기 10 개 있습니다.\n",
      "남은 꽈배기는 0 개 입니다.\n",
      "******************************\n",
      "꽈배기가 다 떨어졌습니다. 판매를 중지합니다.\n"
     ]
    }
   ],
   "source": [
    "korean_pretzel = 10\n",
    "while korean_pretzel :\n",
    "    print('꽈배기', korean_pretzel, '개 있습니다.')\n",
    "    order = int(input('주문 개수 : '))\n",
    "    korean_pretzel -= order\n",
    "    print('남은 꽈배기는', korean_pretzel, '개 입니다.')\n",
    "    print(\"*\"*30)\n",
    "    if korean_pretzel <= 0:\n",
    "        print('꽈배기가 다 떨어졌습니다. 판매를 중지합니다.')\n",
    "        break\n"
   ],
   "metadata": {
    "collapsed": false,
    "ExecuteTime": {
     "end_time": "2023-06-26T05:59:48.373111Z",
     "start_time": "2023-06-26T05:59:44.877620Z"
    }
   }
  },
  {
   "cell_type": "code",
   "execution_count": 32,
   "outputs": [
    {
     "name": "stdout",
     "output_type": "stream",
     "text": [
      "1\n",
      "3\n",
      "5\n",
      "7\n",
      "9\n"
     ]
    }
   ],
   "source": [
    "a=0\n",
    "while a < 10:\n",
    "    a += 1\n",
    "    if a % 2 ==0:\n",
    "        continue\n",
    "    print(a)"
   ],
   "metadata": {
    "collapsed": false,
    "ExecuteTime": {
     "end_time": "2023-06-26T06:17:23.825543Z",
     "start_time": "2023-06-26T06:17:23.820172Z"
    }
   }
  },
  {
   "cell_type": "code",
   "execution_count": 33,
   "outputs": [
    {
     "name": "stdout",
     "output_type": "stream",
     "text": [
      "1\n"
     ]
    }
   ],
   "source": [
    "a=0\n",
    "while a < 10:\n",
    "    a += 1\n",
    "    if a % 2 ==0:\n",
    "        break\n",
    "    print(a)"
   ],
   "metadata": {
    "collapsed": false,
    "ExecuteTime": {
     "end_time": "2023-06-26T06:19:41.134790Z",
     "start_time": "2023-06-26T06:19:41.128788Z"
    }
   }
  },
  {
   "cell_type": "code",
   "execution_count": 34,
   "outputs": [
    {
     "name": "stdout",
     "output_type": "stream",
     "text": [
      "1 번 출력\n",
      "2 번 출력\n",
      "3 번 출력\n"
     ]
    }
   ],
   "source": [
    "a = [1,2,3]\n",
    "for i in a :\n",
    "    print(i, '번 출력')"
   ],
   "metadata": {
    "collapsed": false,
    "ExecuteTime": {
     "end_time": "2023-06-26T06:20:30.971962Z",
     "start_time": "2023-06-26T06:20:30.966598Z"
    }
   }
  },
  {
   "cell_type": "code",
   "execution_count": 35,
   "outputs": [
    {
     "name": "stdout",
     "output_type": "stream",
     "text": [
      "a\n",
      "i\n",
      "f\n",
      "f\n",
      "e\n",
      "l\n"
     ]
    }
   ],
   "source": [
    "a = 'aiffel'\n",
    "for i in a :\n",
    "    print(i)"
   ],
   "metadata": {
    "collapsed": false,
    "ExecuteTime": {
     "end_time": "2023-06-26T06:21:01.931252Z",
     "start_time": "2023-06-26T06:21:01.925160Z"
    }
   }
  },
  {
   "cell_type": "code",
   "execution_count": 36,
   "outputs": [
    {
     "name": "stdout",
     "output_type": "stream",
     "text": [
      "3\n",
      "7\n",
      "11\n"
     ]
    }
   ],
   "source": [
    "a = [(1,2), (3,4), (5,6)]\n",
    "for (first, last) in a:\n",
    "    print(first + last)"
   ],
   "metadata": {
    "collapsed": false,
    "ExecuteTime": {
     "end_time": "2023-06-26T06:22:06.469797Z",
     "start_time": "2023-06-26T06:22:06.463467Z"
    }
   }
  },
  {
   "cell_type": "code",
   "execution_count": 37,
   "outputs": [
    {
     "name": "stdout",
     "output_type": "stream",
     "text": [
      "0\n",
      "1\n",
      "2\n",
      "3\n",
      "4\n",
      "5\n",
      "6\n",
      "7\n",
      "8\n",
      "9\n"
     ]
    }
   ],
   "source": [
    "for i in range(10):\n",
    "    print(i)"
   ],
   "metadata": {
    "collapsed": false,
    "ExecuteTime": {
     "end_time": "2023-06-26T06:24:23.590341Z",
     "start_time": "2023-06-26T06:24:23.584536Z"
    }
   }
  },
  {
   "cell_type": "code",
   "execution_count": 38,
   "outputs": [
    {
     "name": "stdout",
     "output_type": "stream",
     "text": [
      "1\n",
      "2\n",
      "3\n",
      "4\n",
      "5\n",
      "6\n",
      "7\n",
      "8\n",
      "9\n"
     ]
    }
   ],
   "source": [
    "for i in range(1, 10):\n",
    "    print(i)"
   ],
   "metadata": {
    "collapsed": false,
    "ExecuteTime": {
     "end_time": "2023-06-26T06:24:53.818235Z",
     "start_time": "2023-06-26T06:24:53.807072Z"
    }
   }
  },
  {
   "cell_type": "code",
   "execution_count": 40,
   "outputs": [
    {
     "name": "stdout",
     "output_type": "stream",
     "text": [
      "0\n",
      "2\n",
      "4\n",
      "6\n",
      "8\n"
     ]
    }
   ],
   "source": [
    "for i in range(0, 10, 2):\n",
    "    print(i)"
   ],
   "metadata": {
    "collapsed": false,
    "ExecuteTime": {
     "end_time": "2023-06-26T06:25:35.249708Z",
     "start_time": "2023-06-26T06:25:35.246794Z"
    }
   }
  },
  {
   "cell_type": "code",
   "execution_count": 41,
   "outputs": [
    {
     "name": "stdout",
     "output_type": "stream",
     "text": [
      "1\n",
      "2\n",
      "3\n",
      "4\n",
      "5\n",
      "6\n",
      "7\n",
      "8\n",
      "9\n",
      "10\n"
     ]
    }
   ],
   "source": [
    "num = 1\n",
    "while num <=10:\n",
    "    print(num)\n",
    "    num += 1"
   ],
   "metadata": {
    "collapsed": false,
    "ExecuteTime": {
     "end_time": "2023-06-26T06:26:20.962435Z",
     "start_time": "2023-06-26T06:26:20.956961Z"
    }
   }
  },
  {
   "cell_type": "code",
   "execution_count": 43,
   "outputs": [
    {
     "name": "stdout",
     "output_type": "stream",
     "text": [
      "꽈배기 10 개 있습니다.\n",
      "남은 꽈배기는 7 개 입니다.\n",
      "******************************\n",
      "꽈배기 7 개 있습니다.\n",
      "남은 꽈배기는 3 개 입니다.\n",
      "******************************\n",
      "꽈배기 3 개 있습니다.\n",
      "남은 꽈배기는 0 개 입니다.\n",
      "******************************\n",
      "꽈배기가 다 떨어졌습니다. 판매를 중지합니다.\n"
     ]
    }
   ],
   "source": [
    "korean_pretzel = 10\n",
    "while korean_pretzel :\n",
    "    print('꽈배기', korean_pretzel, '개 있습니다.')\n",
    "    order = int(input('주문개수 :'))\n",
    "    korean_pretzel -= order\n",
    "    print('남은 꽈배기는', korean_pretzel, '개 입니다.')\n",
    "    print(\"*\"*30)\n",
    "    if korean_pretzel <=0:\n",
    "        print('꽈배기가 다 떨어졌습니다. 판매를 중지합니다.')\n",
    "        break\n"
   ],
   "metadata": {
    "collapsed": false,
    "ExecuteTime": {
     "end_time": "2023-06-26T06:30:36.302701Z",
     "start_time": "2023-06-26T06:30:24.182288Z"
    }
   }
  },
  {
   "cell_type": "code",
   "execution_count": 45,
   "outputs": [
    {
     "name": "stdout",
     "output_type": "stream",
     "text": [
      "1\n",
      "3\n",
      "5\n",
      "7\n",
      "9\n"
     ]
    }
   ],
   "source": [
    "a = 0\n",
    "while a <10:\n",
    "    a += 1\n",
    "    if a % 2 ==0:\n",
    "        continue\n",
    "    print(a)"
   ],
   "metadata": {
    "collapsed": false,
    "ExecuteTime": {
     "end_time": "2023-06-26T06:33:02.931093Z",
     "start_time": "2023-06-26T06:33:02.927022Z"
    }
   }
  },
  {
   "cell_type": "code",
   "execution_count": 46,
   "outputs": [
    {
     "name": "stdout",
     "output_type": "stream",
     "text": [
      "apple : 사과\n",
      "banana : 바나나\n",
      "peach : 복숭아\n"
     ]
    }
   ],
   "source": [
    "a = [('apple','사과'), ('banana','바나나'), ('peach','복숭아')]\n",
    "for(eng, kor) in a:\n",
    "    print(eng, ':', kor)"
   ],
   "metadata": {
    "collapsed": false,
    "ExecuteTime": {
     "end_time": "2023-06-26T06:34:28.155072Z",
     "start_time": "2023-06-26T06:34:28.143145Z"
    }
   }
  },
  {
   "cell_type": "code",
   "execution_count": 48,
   "outputs": [
    {
     "name": "stdout",
     "output_type": "stream",
     "text": [
      "0\n",
      "1\n",
      "2\n",
      "3\n",
      "4\n",
      "5\n"
     ]
    }
   ],
   "source": [
    "for i in range(6):\n",
    "    print(i)"
   ],
   "metadata": {
    "collapsed": false,
    "ExecuteTime": {
     "end_time": "2023-06-26T06:35:23.527791Z",
     "start_time": "2023-06-26T06:35:23.523692Z"
    }
   }
  },
  {
   "cell_type": "code",
   "execution_count": 49,
   "outputs": [
    {
     "name": "stdout",
     "output_type": "stream",
     "text": [
      "3\n",
      "4\n",
      "5\n"
     ]
    }
   ],
   "source": [
    "for i in range(3,6):\n",
    "    print(i)"
   ],
   "metadata": {
    "collapsed": false,
    "ExecuteTime": {
     "end_time": "2023-06-26T06:36:05.268204Z",
     "start_time": "2023-06-26T06:36:05.257420Z"
    }
   }
  },
  {
   "cell_type": "code",
   "execution_count": 50,
   "outputs": [
    {
     "name": "stdout",
     "output_type": "stream",
     "text": [
      "3\n",
      "5\n"
     ]
    }
   ],
   "source": [
    "for i in range(3, 6, 2):\n",
    "    print(i)"
   ],
   "metadata": {
    "collapsed": false,
    "ExecuteTime": {
     "end_time": "2023-06-26T06:36:16.806369Z",
     "start_time": "2023-06-26T06:36:16.795083Z"
    }
   }
  },
  {
   "cell_type": "code",
   "execution_count": 52,
   "outputs": [
    {
     "name": "stdout",
     "output_type": "stream",
     "text": [
      "3 단\n",
      "3 * 1 = 3\n",
      "3 * 2 = 6\n",
      "3 * 3 = 9\n",
      "3 * 4 = 12\n",
      "3 * 5 = 15\n",
      "3 * 6 = 18\n",
      "3 * 7 = 21\n",
      "3 * 8 = 24\n",
      "3 * 9 = 27\n"
     ]
    }
   ],
   "source": [
    "# for문을 사용해 구구단 출력하기\n",
    "# Q. n * x = m 형태로 반복해서 출력되도록 구현해보세요!\n",
    "\n",
    "n = int(input(\"원하는 단수를 입력하세요:\"))\n",
    "print(n, '단')\n",
    "for x in range(1, 10):\n",
    "    print(n,  '*', x, '=', n*x)"
   ],
   "metadata": {
    "collapsed": false,
    "ExecuteTime": {
     "end_time": "2023-06-26T06:40:56.700960Z",
     "start_time": "2023-06-26T06:40:54.935677Z"
    }
   }
  },
  {
   "cell_type": "code",
   "execution_count": 53,
   "outputs": [
    {
     "data": {
      "text/plain": "False"
     },
     "execution_count": 53,
     "metadata": {},
     "output_type": "execute_result"
    }
   ],
   "source": [
    "3>4 or 4<3"
   ],
   "metadata": {
    "collapsed": false,
    "ExecuteTime": {
     "end_time": "2023-06-26T06:48:44.214173Z",
     "start_time": "2023-06-26T06:48:44.201155Z"
    }
   }
  },
  {
   "cell_type": "code",
   "execution_count": 54,
   "outputs": [
    {
     "data": {
      "text/plain": "True"
     },
     "execution_count": 54,
     "metadata": {},
     "output_type": "execute_result"
    }
   ],
   "source": [
    "'e in 'apple'"
   ],
   "metadata": {
    "collapsed": false,
    "ExecuteTime": {
     "end_time": "2023-06-26T06:49:26.272897Z",
     "start_time": "2023-06-26T06:49:26.255140Z"
    }
   }
  },
  {
   "cell_type": "code",
   "execution_count": 58,
   "outputs": [
    {
     "name": "stdout",
     "output_type": "stream",
     "text": [
      "학점은 D 입니다.\n"
     ]
    }
   ],
   "source": [
    "# Q. 시험 성적을 입력하면 학점을 출력하는 프로그램을 조건문을 이용하여 만들어 보세요.\n",
    "\n",
    "score = int(input(('시험 점수를 입력하세요.:  ')))\n",
    "\n",
    "if score >=90:\n",
    "    print(\"학점은 A 입니다.\")\n",
    "elif score >=80:\n",
    "    print(\"학점은 B 입니다.\")\n",
    "elif score >=70:\n",
    "    print(\"학점은 C 입니다.\")\n",
    "elif score >=60:\n",
    "    print(\"학점은 D 입니다.\")\n",
    "else:\n",
    "    print(\"학점은 E 입니다.\")\n"
   ],
   "metadata": {
    "collapsed": false,
    "ExecuteTime": {
     "end_time": "2023-06-26T07:04:03.254765Z",
     "start_time": "2023-06-26T07:03:59.167747Z"
    }
   }
  },
  {
   "cell_type": "code",
   "execution_count": 59,
   "outputs": [
    {
     "data": {
      "text/plain": "3"
     },
     "execution_count": 59,
     "metadata": {},
     "output_type": "execute_result"
    }
   ],
   "source": [
    "def add(a,b):\n",
    "    return a+b\n",
    "add(1,2)"
   ],
   "metadata": {
    "collapsed": false,
    "ExecuteTime": {
     "end_time": "2023-06-26T07:13:56.209603Z",
     "start_time": "2023-06-26T07:13:56.191905Z"
    }
   }
  },
  {
   "cell_type": "code",
   "execution_count": 61,
   "outputs": [
    {
     "name": "stdout",
     "output_type": "stream",
     "text": [
      "30\n",
      "20\n",
      "10\n"
     ]
    }
   ],
   "source": [
    "def print_nums(a,b,c):\n",
    "    print(c)\n",
    "    print(b)\n",
    "    print(a)\n",
    "a  = [10, 20, 30]\n",
    "print_nums(*a)"
   ],
   "metadata": {
    "collapsed": false,
    "ExecuteTime": {
     "end_time": "2023-06-26T07:22:25.912022Z",
     "start_time": "2023-06-26T07:22:25.905952Z"
    }
   }
  },
  {
   "cell_type": "code",
   "execution_count": 62,
   "outputs": [
    {
     "data": {
      "text/plain": "15"
     },
     "execution_count": 62,
     "metadata": {},
     "output_type": "execute_result"
    }
   ],
   "source": [
    "def sum_nums(*args):\n",
    "    sum = 0\n",
    "    for arg in args:\n",
    "        sum += arg\n",
    "    return sum\n",
    "sum_nums(1,2,3,4,5)"
   ],
   "metadata": {
    "collapsed": false,
    "ExecuteTime": {
     "end_time": "2023-06-26T07:24:28.879872Z",
     "start_time": "2023-06-26T07:24:28.862001Z"
    }
   }
  },
  {
   "cell_type": "code",
   "execution_count": 63,
   "outputs": [
    {
     "name": "stdout",
     "output_type": "stream",
     "text": [
      "초코\n",
      "3\n",
      "푸들\n"
     ]
    }
   ],
   "source": [
    "def dog_info(name, age, breed):\n",
    "    print(name)\n",
    "    print(age)\n",
    "    print(breed)\n",
    "dog_info('초코', 3, '푸들')"
   ],
   "metadata": {
    "collapsed": false,
    "ExecuteTime": {
     "end_time": "2023-06-26T07:26:35.927840Z",
     "start_time": "2023-06-26T07:26:35.912678Z"
    }
   }
  },
  {
   "cell_type": "code",
   "execution_count": 65,
   "outputs": [
    {
     "name": "stdout",
     "output_type": "stream",
     "text": [
      "name : 규봉이\n",
      "age : 10\n"
     ]
    }
   ],
   "source": [
    "def dog_info(**kwargs):\n",
    "    for kword, arg in kwargs.items():\n",
    "        print(kword, ':', arg)\n",
    "dog_info(name = '규봉이',age = 10)"
   ],
   "metadata": {
    "collapsed": false,
    "ExecuteTime": {
     "end_time": "2023-06-26T07:31:21.038948Z",
     "start_time": "2023-06-26T07:31:21.036620Z"
    }
   }
  },
  {
   "cell_type": "code",
   "execution_count": 66,
   "outputs": [
    {
     "name": "stdout",
     "output_type": "stream",
     "text": [
      "name : 규봉이\n",
      "age : 10\n"
     ]
    }
   ],
   "source": [
    "a = {'name':'규봉이', 'age':10}\n",
    "dog_info(**a)"
   ],
   "metadata": {
    "collapsed": false,
    "ExecuteTime": {
     "end_time": "2023-06-26T07:32:08.706167Z",
     "start_time": "2023-06-26T07:32:08.688981Z"
    }
   }
  },
  {
   "cell_type": "code",
   "execution_count": null,
   "outputs": [],
   "source": [],
   "metadata": {
    "collapsed": false
   }
  }
 ],
 "metadata": {
  "kernelspec": {
   "display_name": "Python 3",
   "language": "python",
   "name": "python3"
  },
  "language_info": {
   "codemirror_mode": {
    "name": "ipython",
    "version": 2
   },
   "file_extension": ".py",
   "mimetype": "text/x-python",
   "name": "python",
   "nbconvert_exporter": "python",
   "pygments_lexer": "ipython2",
   "version": "2.7.6"
  }
 },
 "nbformat": 4,
 "nbformat_minor": 0
}
