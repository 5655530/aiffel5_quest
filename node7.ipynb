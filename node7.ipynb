{
 "cells": [
  {
   "cell_type": "markdown",
   "source": [
    "#7. 예외처리\n",
    "1)구문오류(SyntaxError)\n",
    "\n",
    "파이썬 문법에 맞지 않아서 프로그래밍 실행 전에 오류가 나는것\n",
    "\n",
    "EOL : Error on Line\n",
    "\n",
    "구문 오류는 오류난 문법을 수정해야 코드가 실행\n",
    "\n",
    "2)예외(Exception) 또는 런타임 오류(RuntimeError)\n",
    "\n",
    "예외 or 런타임 오류 : 프로그래밍 실행 후 나온 에러"
   ],
   "metadata": {
    "collapsed": false
   }
  },
  {
   "cell_type": "code",
   "execution_count": 2,
   "outputs": [
    {
     "ename": "NameError",
     "evalue": "name 'list_a' is not defined",
     "output_type": "error",
     "traceback": [
      "\u001B[0;31m---------------------------------------------------------------------------\u001B[0m",
      "\u001B[0;31mNameError\u001B[0m                                 Traceback (most recent call last)",
      "Cell \u001B[0;32mIn[2], line 1\u001B[0m\n\u001B[0;32m----> 1\u001B[0m \u001B[43mlist_a\u001B[49m[\u001B[38;5;241m0\u001B[39m]\n",
      "\u001B[0;31mNameError\u001B[0m: name 'list_a' is not defined"
     ]
    }
   ],
   "source": [
    "list_a[0]"
   ],
   "metadata": {
    "collapsed": false,
    "ExecuteTime": {
     "end_time": "2023-07-03T05:26:42.759280Z",
     "start_time": "2023-07-03T05:26:42.439876Z"
    }
   }
  },
  {
   "cell_type": "markdown",
   "source": [
    "이런 예외를 해결하는 모든 것을 예외처리(Exception Handling)이라고 한다.\n",
    "\n",
    "예외를 처리하는 방법은 두가지로 나뉜다.\n",
    "\n",
    "- 조건문 사용\n",
    "- try구문 사용"
   ],
   "metadata": {
    "collapsed": false
   }
  },
  {
   "cell_type": "markdown",
   "source": [
    "2. 예외처\n",
    "1) 조건문\n",
    "- 조건문으로 예외를 처리하는 방법\n",
    "- 장점 : 속도가 빠름\n",
    "- 단점 : 예외가 발생활 상황을 예측하고 모두 조건문으로 처리해야 한다는 점\n",
    "2) try except 구문\n",
    "- 장점 : 예외가 발생한 상황을 미리 예측하지 않아도 된다.\n",
    "- 단점 : 속도가 느림"
   ],
   "metadata": {
    "collapsed": false
   }
  },
  {
   "cell_type": "code",
   "execution_count": 3,
   "outputs": [
    {
     "name": "stdout",
     "output_type": "stream",
     "text": [
      "입력한 숫자는 2.0입니다.\n"
     ]
    }
   ],
   "source": [
    "# try except 구문\n",
    "# 시도 할 코드\n",
    "try:\n",
    "    # 입력값을 예외걱정 없이 float 함수를 씌움\n",
    "    num = float(input(\"숫자를 입력하세요 : \"))\n",
    "    print(f'입력한 숫자는 {num}입니다.')\n",
    "# try 코드에서 예외가 발생했을때 실행 할 코드\n",
    "except:\n",
    "    print('숫자가 아닙니다.')"
   ],
   "metadata": {
    "collapsed": false,
    "ExecuteTime": {
     "end_time": "2023-07-03T06:46:07.985584Z",
     "start_time": "2023-07-03T06:46:03.624526Z"
    }
   }
  },
  {
   "cell_type": "markdown",
   "source": [
    "Try Except 구문은 pass 키워드(일단 프로그램 강제 종료를 막자)와 함께 사용할 수 있다."
   ],
   "metadata": {
    "collapsed": false
   }
  },
  {
   "cell_type": "code",
   "execution_count": 5,
   "outputs": [
    {
     "name": "stdout",
     "output_type": "stream",
     "text": [
      "프로그램 종료\n"
     ]
    }
   ],
   "source": [
    "try:\n",
    "    # 입력값을 예외걱정 없이 float 함수를 씌움\n",
    "    num = float(input(\"숫자를 입력하세요 : \"))\n",
    "    print(f'입력한 숫자는 {num}입니다.')\n",
    "# try 코드에서 예외가 발생했을때 실행 할 코드\n",
    "except:\n",
    "    pass\n",
    "print('프로그램 종료')"
   ],
   "metadata": {
    "collapsed": false,
    "ExecuteTime": {
     "end_time": "2023-07-03T06:47:55.055986Z",
     "start_time": "2023-07-03T06:47:52.144359Z"
    }
   }
  },
  {
   "cell_type": "markdown",
   "source": [
    "Try except else 구문\n",
    "try except 구문은 else 구문과 함께 사용할 수 있다.\n",
    "else 구문은 try 구문에서 예외가 발생하지 않았을 때 실행된다.\n",
    "예외 발생 가능성이 있는 코드만 try 구문에 넣고 나머지 코드는 else 구문에 넣어서 사용하면 된다.\n",
    "개발자의 스타일에 따라 else 구문은 선택사항"
   ],
   "metadata": {
    "collapsed": false
   }
  },
  {
   "cell_type": "code",
   "execution_count": 6,
   "outputs": [
    {
     "name": "stdout",
     "output_type": "stream",
     "text": [
      "숫자가 아닙니다.\n"
     ]
    }
   ],
   "source": [
    "try:\n",
    "    # 입력값을 예외걱정 없이 float 함수를 씌움\n",
    "    num = float(input(\"숫자를 입력하세요 : \"))\n",
    "except:\n",
    "    print('숫자가 아닙니다.')\n",
    "else:\n",
    "    print(f'입력한 숫자는 {num}입니다.')"
   ],
   "metadata": {
    "collapsed": false,
    "ExecuteTime": {
     "end_time": "2023-07-03T06:50:31.219040Z",
     "start_time": "2023-07-03T06:50:27.766507Z"
    }
   }
  },
  {
   "cell_type": "markdown",
   "source": [
    "Try except else finally 구문\n",
    "try 구문은 단독으로 쓰일 수 없고 적어도 except 구문이 혹은 finally랑 함께 사용해야 한다.\n",
    "finally 구문은 try 구문에서 예외 발생 여부와 상관없이 무조건 실행된다.\n",
    "finally 구문은 try 구문에서 사용한 리소스를 해제할 때 사용한다.\n",
    "else 구문은 except와 꼭 함께 쓰이면서 순서는 except 구문 뒤에 사용해야 한다"
   ],
   "metadata": {
    "collapsed": false
   }
  },
  {
   "cell_type": "code",
   "execution_count": 8,
   "outputs": [
    {
     "name": "stdout",
     "output_type": "stream",
     "text": [
      "숫자가 아닙니다.\n",
      "프로그램 종료\n"
     ]
    }
   ],
   "source": [
    "# try except else finally 구문\n",
    "# 시도할 코드\n",
    "try:\n",
    "    # 입력값을 예외걱정 없이 float 함수를 씌움\n",
    "    num = float(input(\"숫자를 입력하세요 : \"))\n",
    "# try 코드에서 예외가 발생했을때 실행 할 코드\n",
    "except:\n",
    "    print('숫자가 아닙니다.')\n",
    "# try 코드에서 예외가 발생하지 않았을때 실행 할 코드\n",
    "else:\n",
    "    print(f'입력한 숫자는 {num}입니다.')\n",
    "#finally 구문 추가\n",
    "finally:\n",
    "    print('프로그램 종료')"
   ],
   "metadata": {
    "collapsed": false,
    "ExecuteTime": {
     "end_time": "2023-07-03T06:57:13.808746Z",
     "start_time": "2023-07-03T06:57:11.703380Z"
    }
   }
  },
  {
   "cell_type": "markdown",
   "source": [
    "raise 구문\n",
    "raise 구문은 예외를 강제로 발생시킬 때 사용한다.\n"
   ],
   "metadata": {
    "collapsed": false
   }
  },
  {
   "cell_type": "code",
   "execution_count": 9,
   "outputs": [
    {
     "ename": "Exception",
     "evalue": "예외가 발생했습니다.",
     "output_type": "error",
     "traceback": [
      "\u001B[0;31m---------------------------------------------------------------------------\u001B[0m",
      "\u001B[0;31mException\u001B[0m                                 Traceback (most recent call last)",
      "Cell \u001B[0;32mIn[9], line 2\u001B[0m\n\u001B[1;32m      1\u001B[0m \u001B[38;5;66;03m# raise 구문\u001B[39;00m\n\u001B[0;32m----> 2\u001B[0m \u001B[38;5;28;01mraise\u001B[39;00m \u001B[38;5;167;01mException\u001B[39;00m(\u001B[38;5;124m'\u001B[39m\u001B[38;5;124m예외가 발생했습니다.\u001B[39m\u001B[38;5;124m'\u001B[39m)\n",
      "\u001B[0;31mException\u001B[0m: 예외가 발생했습니다."
     ]
    }
   ],
   "source": [
    "# raise 구문\n",
    "raise Exception('예외가 발생했습니다.')"
   ],
   "metadata": {
    "collapsed": false,
    "ExecuteTime": {
     "end_time": "2023-07-03T06:57:59.550873Z",
     "start_time": "2023-07-03T06:57:59.544082Z"
    }
   }
  },
  {
   "cell_type": "markdown",
   "source": [
    "raise 구문\n",
    "자주뜨는 에로종류 9가지\n",
    "SyntaxError : 잘못된 문법\n",
    "NameError : 참조변수 없음\n",
    "TypeError : 타입 안맞음\n",
    "IndexError : 인덱스 범위 벗어남\n",
    "ValueError : 참조값이 없음\n",
    "KeyError : 키 없음 오류(주로 딕셔너리 사용 시)\n",
    "ZeroDivisionError : 0으로 나눌 수 없음\n",
    "FileNotFoundError : 파일을 찾을 수 없음 오류\n",
    "ModuleNotFoundError : 모듈을 찾을 수 없음 오류\n",
    "AttributeError : 모듈, 클래스의 잘못된 속성 사용 오류"
   ],
   "metadata": {
    "collapsed": false
   }
  },
  {
   "cell_type": "markdown",
   "source": [
    "* 예외 처리 전략\n",
    "EAFP(Easier to Ask for Forgiveness than Permission) : 용서를 구하는 것이 허락을 받기보다 쉽다. 미리 허락을 구하는 것보다 나중에 용서를 구하는 것이 쉽다는 뜻.\n",
    "일단 항상 예외가 발생하지 않을 것으로 가정하고 나름대로의 완벽한 코딩을 합니다.\n",
    "그래서 일단 수행(try)하고 예외가 발생하면 예외처리(except)하는 방식입니다.\n",
    "\n",
    "LBYL(Look Before You Leap) : 도약하기 전에 보라. 미리 허락을 구하는 것이 용서를 구하는 것보다 쉽다는 뜻. 누울자리를 보고 다리를 뻗으라는 뜻.\n",
    "어떤 코드를 실행하기 전에 에러가 발생할 수 있는 조건을 미리 다 따져보고 그걸 어떻게 처리할지 조건문(if) 스타일로 코딩하는 전략"
   ],
   "metadata": {
    "collapsed": false
   }
  }
 ],
 "metadata": {
  "kernelspec": {
   "display_name": "Python 3",
   "language": "python",
   "name": "python3"
  },
  "language_info": {
   "codemirror_mode": {
    "name": "ipython",
    "version": 2
   },
   "file_extension": ".py",
   "mimetype": "text/x-python",
   "name": "python",
   "nbconvert_exporter": "python",
   "pygments_lexer": "ipython2",
   "version": "2.7.6"
  }
 },
 "nbformat": 4,
 "nbformat_minor": 0
}
