{
 "cells": [
  {
   "cell_type": "markdown",
   "source": [
    "#7. 예외처리\n",
    "1)구문오류(SyntaxError)\n",
    "파이썬 문법에 맞지 않아서 프로그래밍 실행 전에 오류가 나는것\n",
    "EOL : Error on Line\n",
    "구문 오류는 오류난 문법을 수정해야 코드가 실행됨"
   ],
   "metadata": {
    "collapsed": false
   }
  }
 ],
 "metadata": {
  "kernelspec": {
   "display_name": "Python 3",
   "language": "python",
   "name": "python3"
  },
  "language_info": {
   "codemirror_mode": {
    "name": "ipython",
    "version": 2
   },
   "file_extension": ".py",
   "mimetype": "text/x-python",
   "name": "python",
   "nbconvert_exporter": "python",
   "pygments_lexer": "ipython2",
   "version": "2.7.6"
  }
 },
 "nbformat": 4,
 "nbformat_minor": 0
}
