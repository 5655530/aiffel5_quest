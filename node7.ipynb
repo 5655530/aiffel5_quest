{
 "cells": [
  {
   "cell_type": "markdown",
   "source": [
    "#7. 예외처리\n",
    "1)구문오류(SyntaxError)\n",
    "\n",
    "파이썬 문법에 맞지 않아서 프로그래밍 실행 전에 오류가 나는것\n",
    "\n",
    "EOL : Error on Line\n",
    "\n",
    "구문 오류는 오류난 문법을 수정해야 코드가 실행\n",
    "\n",
    "2)예외(Exception) 또는 런타임 오류(RuntimeError)\n",
    "\n",
    "예외 or 런타임 오류 : 프로그래밍 실행 후 나온 에러"
   ],
   "metadata": {
    "collapsed": false
   }
  },
  {
   "cell_type": "code",
   "execution_count": 2,
   "outputs": [
    {
     "ename": "NameError",
     "evalue": "name 'list_a' is not defined",
     "output_type": "error",
     "traceback": [
      "\u001B[0;31m---------------------------------------------------------------------------\u001B[0m",
      "\u001B[0;31mNameError\u001B[0m                                 Traceback (most recent call last)",
      "Cell \u001B[0;32mIn[2], line 1\u001B[0m\n\u001B[0;32m----> 1\u001B[0m \u001B[43mlist_a\u001B[49m[\u001B[38;5;241m0\u001B[39m]\n",
      "\u001B[0;31mNameError\u001B[0m: name 'list_a' is not defined"
     ]
    }
   ],
   "source": [
    "list_a[0]"
   ],
   "metadata": {
    "collapsed": false,
    "ExecuteTime": {
     "end_time": "2023-07-03T05:26:42.759280Z",
     "start_time": "2023-07-03T05:26:42.439876Z"
    }
   }
  },
  {
   "cell_type": "markdown",
   "source": [
    "이런 예외를 해결하는 모든 것을 예외처리(Exception Handling)이라고 한다.\n",
    "\n",
    "예외를 처리하는 방법은 두가지로 나뉜다.\n",
    "\n",
    "- 조건문 사용\n",
    "- try구문 사용"
   ],
   "metadata": {
    "collapsed": false
   }
  },
  {
   "cell_type": "markdown",
   "source": [
    "2. 예외처\n",
    "1) 조건문\n",
    "- 조건문으로 예외를 처리하는 방법\n",
    "- 장점 : 속도가 빠름\n",
    "- 단점 : 예외가 발생활 상황을 예측하고 모두 조건문으로 처리해야 한다는 것"
   ],
   "metadata": {
    "collapsed": false
   }
  },
  {
   "cell_type": "markdown",
   "source": [],
   "metadata": {
    "collapsed": false
   }
  }
 ],
 "metadata": {
  "kernelspec": {
   "display_name": "Python 3",
   "language": "python",
   "name": "python3"
  },
  "language_info": {
   "codemirror_mode": {
    "name": "ipython",
    "version": 2
   },
   "file_extension": ".py",
   "mimetype": "text/x-python",
   "name": "python",
   "nbconvert_exporter": "python",
   "pygments_lexer": "ipython2",
   "version": "2.7.6"
  }
 },
 "nbformat": 4,
 "nbformat_minor": 0
}
