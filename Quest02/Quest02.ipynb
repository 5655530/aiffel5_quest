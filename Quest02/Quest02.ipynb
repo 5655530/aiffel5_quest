{
  "nbformat": 4,
  "nbformat_minor": 0,
  "metadata": {
    "colab": {
      "provenance": [],
      "include_colab_link": true
    },
    "kernelspec": {
      "name": "python3",
      "display_name": "Python 3"
    },
    "language_info": {
      "name": "python"
    }
  },
  "cells": [
    {
      "cell_type": "markdown",
      "metadata": {
        "id": "view-in-github",
        "colab_type": "text"
      },
      "source": [
        "<a href=\"https://colab.research.google.com/github/ralphpark/aiffel5_quest/blob/main/Quest02/Quest02.ipynb\" target=\"_parent\"><img src=\"https://colab.research.google.com/assets/colab-badge.svg\" alt=\"Open In Colab\"/></a>"
      ]
    },
    {
      "cell_type": "code",
      "source": [
        "import pprint\n",
        "maze = [[0,1,0,0,0],[0,0,0,1,0],[0,1,1,0,0],[0,0,1,1,0],[0,0,0,0,0]]\n",
        "def search (now, maze, next):\n",
        "  h, w = len(maze), len(maze[0]) #미로의 크기\n",
        "  now_x, now_y = now #현재 x,y좌표\n",
        "  if maze[max(now_x -1,0)][now_y] == 0 :\n",
        "      next.append([max(now_x -1,0),now_y])\n",
        "  if maze[min(now_x+1,h-1)][now_y] ==0:\n",
        "    next.append([min(now_x+1,h-1),now_y])\n",
        "  if maze[now_x][max(now_y-1, 0)] == 0:\n",
        "    next.append([now_x,max(now_y-1, 0)])\n",
        "  if maze [now_x][min(now_y+1, w-1)] == 0:\n",
        "    next.append([now_x,min(now_y+1, w-1)])\n",
        "\n",
        "  return next\n",
        "\n",
        "def can_go (start, finish, maze):\n",
        "    arr = [start] #검사할 경로\n",
        "\n",
        "    while len(arr) !=0:\n",
        "        now_position = arr.pop(0)# 현재위치를 검사할 경로로 이동\n",
        "        maze[now_position[0]][now_position[1]] = 2 #이동한 길은 2로 바꿈\n",
        "        search (now_position, maze, arr)\n",
        "        if finish in arr : #목적지에 도착시 탐색을 종료\n",
        "          maze[finish[0]][finish[1]] = 2\n",
        "          break\n",
        "    return maze\n",
        "\n",
        "can_go([0,0],[4,4],maze)\n",
        "\n",
        "if maze[4][4] == 2 :\n",
        "    print(\"미로를 찾았습니다.\")\n",
        "    # print(maze)\n",
        "    pprint.pprint(maze)\n",
        "else:\n",
        "    print(\"미로를 찾을 수 없습니다\")\n"
      ],
      "metadata": {
        "colab": {
          "base_uri": "https://localhost:8080/"
        },
        "id": "r0CN_3q2Hs_U",
        "outputId": "84a21c1e-6bb9-4789-f511-e781aa2584ab"
      },
      "execution_count": 28,
      "outputs": [
        {
          "output_type": "stream",
          "name": "stdout",
          "text": [
            "미로를 찾았습니다.\n",
            "[[2, 1, 2, 2, 2],\n",
            " [2, 2, 2, 1, 0],\n",
            " [2, 1, 1, 0, 0],\n",
            " [2, 2, 1, 1, 0],\n",
            " [2, 2, 2, 2, 2]]\n"
          ]
        }
      ]
    }
  ]
}