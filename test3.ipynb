{
 "cells": [
  {
   "cell_type": "code",
   "execution_count": 1,
   "metadata": {
    "collapsed": true,
    "ExecuteTime": {
     "end_time": "2023-06-26T07:33:54.951013Z",
     "start_time": "2023-06-26T07:33:54.947882Z"
    }
   },
   "outputs": [
    {
     "name": "stdout",
     "output_type": "stream",
     "text": [
      "나를 소개합니다.\n",
      "이름: 모두연\n",
      "나이: 20\n",
      "MBTI : ESFJ\n"
     ]
    }
   ],
   "source": [
    "# 누군가의 프로필 함수\n",
    "def someone_profile(name, age, MBTI):\n",
    "    print('나를 소개합니다.')\n",
    "    print('이름:', name)\n",
    "    print('나이:', age)\n",
    "    print('MBTI :', MBTI)\n",
    "\n",
    "# Q. MBTI가 ESFJ, 나이가 20살인 모두연의 프로필을 만들어 보세요.\n",
    "\n",
    "someone_profile('모두연',20, 'ESFJ')"
   ]
  },
  {
   "cell_type": "code",
   "execution_count": 2,
   "outputs": [
    {
     "name": "stdout",
     "output_type": "stream",
     "text": [
      "1\n",
      "2\n",
      "3\n"
     ]
    }
   ],
   "source": [
    "def print_nums(a,b,c):\n",
    "    print(a)\n",
    "    print(b)\n",
    "    print(c)\n",
    "print_nums(1,2,3)"
   ],
   "metadata": {
    "collapsed": false,
    "ExecuteTime": {
     "end_time": "2023-06-26T07:36:58.824431Z",
     "start_time": "2023-06-26T07:36:58.815870Z"
    }
   }
  },
  {
   "cell_type": "code",
   "execution_count": 3,
   "outputs": [
    {
     "name": "stdout",
     "output_type": "stream",
     "text": [
      "이름: 초코\n",
      "나이: 3\n",
      "품종: 푸들\n"
     ]
    }
   ],
   "source": [
    "def dog_info(name,age,breed):\n",
    "    print('이름:',name)\n",
    "    print('나이:',age)\n",
    "    print('품종:',breed)\n",
    "dog_info('초코',3,'푸들')"
   ],
   "metadata": {
    "collapsed": false,
    "ExecuteTime": {
     "end_time": "2023-06-26T07:37:48.767554Z",
     "start_time": "2023-06-26T07:37:48.763454Z"
    }
   }
  },
  {
   "cell_type": "code",
   "execution_count": 4,
   "outputs": [
    {
     "name": "stdout",
     "output_type": "stream",
     "text": [
      "크리스마스는 12월25 입니다🎄\n"
     ]
    }
   ],
   "source": [
    "month = '12월'\n",
    "day = '25'\n",
    "\n",
    "answer = month + day  # 문자열 더하기(+)\n",
    "\n",
    "print('크리스마스는', answer, '입니다🎄')"
   ],
   "metadata": {
    "collapsed": false,
    "ExecuteTime": {
     "end_time": "2023-06-26T07:41:21.473874Z",
     "start_time": "2023-06-26T07:41:21.468982Z"
    }
   }
  },
  {
   "cell_type": "code",
   "execution_count": 5,
   "outputs": [
    {
     "name": "stdout",
     "output_type": "stream",
     "text": [
      "13 X 1 = 13\n",
      "13 X 2 = 26\n",
      "13 X 3 = 39\n",
      "13 X 4 = 52\n",
      "13 X 5 = 65\n",
      "13 X 6 = 78\n",
      "13 X 7 = 91\n",
      "13 X 8 = 104\n",
      "13 X 9 = 117\n"
     ]
    }
   ],
   "source": [
    "# 실습퀴즈2. 반복문\n",
    "# while문으로 구구단 13단을 만들어 보세요.\n",
    "\n",
    "num = 1\n",
    "\n",
    "while num <=9:                 # 조건을 적어주세요.\n",
    "    answer = num*13\n",
    "    print(13, 'X', num, '=', answer)\n",
    "    num +=1"
   ],
   "metadata": {
    "collapsed": false,
    "ExecuteTime": {
     "end_time": "2023-06-26T07:44:38.215751Z",
     "start_time": "2023-06-26T07:44:38.204822Z"
    }
   }
  },
  {
   "cell_type": "code",
   "execution_count": 6,
   "outputs": [
    {
     "data": {
      "text/plain": "True"
     },
     "execution_count": 6,
     "metadata": {},
     "output_type": "execute_result"
    }
   ],
   "source": [
    "# 실습퀴즈3. 비교 연산자\n",
    "# 기린(giraffe)은 원숭이(monkey)보다 키가 크다.\n",
    "# True가 나와야 정답입니다.\n",
    "\n",
    "giraffe = 400\n",
    "monkey = 70\n",
    "\n",
    "giraffe > monkey"
   ],
   "metadata": {
    "collapsed": false,
    "ExecuteTime": {
     "end_time": "2023-06-26T07:45:28.012916Z",
     "start_time": "2023-06-26T07:45:28.009095Z"
    }
   }
  },
  {
   "cell_type": "code",
   "execution_count": 9,
   "outputs": [
    {
     "data": {
      "text/plain": "True"
     },
     "execution_count": 9,
     "metadata": {},
     "output_type": "execute_result"
    }
   ],
   "source": [
    "rabbit = ['귀엽다' , '착하다', '똑똑하다', '빠르다']\n",
    "\n",
    "rabbit[0]=='귀엽다' and rabbit[1]=='착하다' and rabbit[3] == '빠르다'\n"
   ],
   "metadata": {
    "collapsed": false,
    "ExecuteTime": {
     "end_time": "2023-06-26T07:51:44.210630Z",
     "start_time": "2023-06-26T07:51:44.207683Z"
    }
   }
  },
  {
   "cell_type": "code",
   "execution_count": 10,
   "outputs": [
    {
     "data": {
      "text/plain": "True"
     },
     "execution_count": 10,
     "metadata": {},
     "output_type": "execute_result"
    }
   ],
   "source": [
    "# 실습퀴즈5. 기타 연산자\n",
    "# 로또 당첨 번호 7, 16, 25, 29, 35, 36, 28 중에 내가 고른 33번은 없다.\n",
    "# True가 나와야 정답입니다.\n",
    "\n",
    "lotto_numbers = [7, 16, 25, 29, 35, 36, 28]\n",
    "my_number = [33]\n",
    "\n",
    "not my_number in lotto_numbers"
   ],
   "metadata": {
    "collapsed": false,
    "ExecuteTime": {
     "end_time": "2023-06-26T07:53:33.361116Z",
     "start_time": "2023-06-26T07:53:33.356062Z"
    }
   }
  },
  {
   "cell_type": "code",
   "execution_count": 11,
   "outputs": [
    {
     "name": "stdout",
     "output_type": "stream",
     "text": [
      "산이 있어.\n"
     ]
    }
   ],
   "source": [
    "move =  input(\"가고 싶은 곳을 넣어주세요.\")\n",
    "\n",
    "if move == 'front':                      # 조건1\n",
    "    print('강이 흐르고 있어.')      # 수행할 문장1\n",
    "elif move == 'left':\n",
    "    print('산이 있어.')\n",
    "else:\n",
    "    print('막다른 절벽이 있어.')"
   ],
   "metadata": {
    "collapsed": false,
    "ExecuteTime": {
     "end_time": "2023-06-26T07:56:41.832006Z",
     "start_time": "2023-06-26T07:56:37.835635Z"
    }
   }
  },
  {
   "cell_type": "code",
   "execution_count": 12,
   "outputs": [
    {
     "name": "stdout",
     "output_type": "stream",
     "text": [
      "저를 소개합니다.\n",
      "name : 모두연\n",
      "age : 20\n",
      "MBTI : ESFJ\n"
     ]
    }
   ],
   "source": [
    "# 실습퀴즈7. 함수\n",
    "# 나만의 프로필 함수를 만들어 보세요.\n",
    "\n",
    "def my_profile(**kwargs):    # 키워드 가변 인수 활용\n",
    "    print('저를 소개합니다.')\n",
    "    for kword, arg in kwargs.items():\n",
    "        print(kword ,':',arg)\n",
    "my_profile(name='모두연', age=20, MBTI='ESFJ')\n",
    "\n",
    "# 여러분의 프로필을 넣어보세요.\n",
    "# me = {'name':'이름', 'age':18, 'MBTI':'ESFJ'}\n"
   ],
   "metadata": {
    "collapsed": false,
    "ExecuteTime": {
     "end_time": "2023-06-26T08:00:52.889135Z",
     "start_time": "2023-06-26T08:00:52.883546Z"
    }
   }
  },
  {
   "cell_type": "code",
   "execution_count": 14,
   "outputs": [
    {
     "name": "stdout",
     "output_type": "stream",
     "text": [
      "30\n",
      "20\n",
      "10\n"
     ]
    }
   ],
   "source": [
    "def print_nums(a,b,c):\n",
    "    print(c)\n",
    "    print(b)\n",
    "    print(a)\n",
    "a = [10,20,30]\n",
    "print_nums(*a)"
   ],
   "metadata": {
    "collapsed": false,
    "ExecuteTime": {
     "end_time": "2023-06-26T08:13:20.538125Z",
     "start_time": "2023-06-26T08:13:20.532354Z"
    }
   }
  },
  {
   "cell_type": "code",
   "execution_count": null,
   "outputs": [],
   "source": [
    "def sum_nums(*args):\n",
    "    sum=0\n",
    "    for arg in args:\n",
    "        sum += arg\n",
    "    return sum\n",
    "sum_nums(1,2,3,4,5)"
   ],
   "metadata": {
    "collapsed": false
   }
  }
 ],
 "metadata": {
  "kernelspec": {
   "display_name": "Python 3",
   "language": "python",
   "name": "python3"
  },
  "language_info": {
   "codemirror_mode": {
    "name": "ipython",
    "version": 2
   },
   "file_extension": ".py",
   "mimetype": "text/x-python",
   "name": "python",
   "nbconvert_exporter": "python",
   "pygments_lexer": "ipython2",
   "version": "2.7.6"
  }
 },
 "nbformat": 4,
 "nbformat_minor": 0
}
