{
 "cells": [
  {
   "cell_type": "markdown",
   "source": [
    "#4. 이터레이터, 제너레이터, 데코레이터\n"
   ],
   "metadata": {
    "collapsed": false
   }
  },
  {
   "cell_type": "markdown",
   "source": [
    "1. 이터레이터\n",
    "파이썬에서 이터레이터를 만든 이유는 메모리 효율 때문이다.\n",
    "1)이터러블\n",
    "-->값을 반복할 수 있는 객체 (이터 메소드 __iter__() 를 붙여서 확인 가능\n",
    "--> str, 리스트, 튜플, set, dic, range 모두 이터러블 하다\n",
    "-->int 빼고는 모두 이터러블하다\n",
    "\n",
    "2) 이터레이터\n",
    "--> 이터러블 객체 : 반복할 수 있는 객체\n",
    "--> 이터레이터 : 값을 차례대로 꺼낼 수 있는 객체\n",
    "--> 비슷해보이지만 다르기 때문에 차이점 중요하다.\n",
    "--> 이터러블 객체는 __iter__()를 사용 가능했는데, 이터레이터는 __next__()를 사용가능\n",
    "ex) Aiffel.__next()__ 메소드는 값을 차례대로 꺼내주는 메소드"
   ],
   "metadata": {
    "collapsed": false
   }
  },
  {
   "cell_type": "code",
   "execution_count": 2,
   "outputs": [
    {
     "data": {
      "text/plain": "<range_iterator at 0x7fd500164180>"
     },
     "execution_count": 2,
     "metadata": {},
     "output_type": "execute_result"
    }
   ],
   "source": [
    "#이터러블 객체\n",
    "range(0,11).__iter__()"
   ],
   "metadata": {
    "collapsed": false,
    "ExecuteTime": {
     "end_time": "2023-06-28T01:28:31.295827Z",
     "start_time": "2023-06-28T01:28:31.290976Z"
    }
   }
  },
  {
   "cell_type": "code",
   "execution_count": 14,
   "outputs": [
    {
     "data": {
      "text/plain": "4"
     },
     "execution_count": 14,
     "metadata": {},
     "output_type": "execute_result"
    }
   ],
   "source": [
    "#이터레이터 확인해보기\n",
    "range_iter = range(0,11).__iter__()\n",
    "range_iter.__next__()\n",
    "range_iter.__next__()\n",
    "range_iter.__next__()\n",
    "range_iter.__next__()\n",
    "range_iter.__next__()"
   ],
   "metadata": {
    "collapsed": false,
    "ExecuteTime": {
     "end_time": "2023-06-28T01:34:55.077682Z",
     "start_time": "2023-06-28T01:34:55.073285Z"
    }
   }
  },
  {
   "cell_type": "markdown",
   "source": [
    "이터러블(반복가능객체) --> __iter__() 붙이면 이터레이터가 되고 여기에 __next__()붙이면 값을 꺼낼 수 있다"
   ],
   "metadata": {
    "collapsed": false
   }
  },
  {
   "cell_type": "code",
   "execution_count": 15,
   "outputs": [
    {
     "ename": "AttributeError",
     "evalue": "'range' object has no attribute '__next__'",
     "output_type": "error",
     "traceback": [
      "\u001B[0;31m---------------------------------------------------------------------------\u001B[0m",
      "\u001B[0;31mAttributeError\u001B[0m                            Traceback (most recent call last)",
      "Cell \u001B[0;32mIn[15], line 2\u001B[0m\n\u001B[1;32m      1\u001B[0m \u001B[38;5;66;03m#이터러블은 넥스트로 갈 수 없다\u001B[39;00m\n\u001B[0;32m----> 2\u001B[0m \u001B[38;5;28;43mrange\u001B[39;49m\u001B[43m(\u001B[49m\u001B[38;5;241;43m1\u001B[39;49m\u001B[43m,\u001B[49m\u001B[38;5;241;43m11\u001B[39;49m\u001B[43m)\u001B[49m\u001B[38;5;241;43m.\u001B[39;49m\u001B[38;5;21;43m__next__\u001B[39;49m()\n",
      "\u001B[0;31mAttributeError\u001B[0m: 'range' object has no attribute '__next__'"
     ]
    }
   ],
   "source": [
    "#이터러블은 넥스트로 갈 수 없다\n",
    "range(1,11).__next__()"
   ],
   "metadata": {
    "collapsed": false,
    "ExecuteTime": {
     "end_time": "2023-06-28T01:53:43.569301Z",
     "start_time": "2023-06-28T01:53:43.272291Z"
    }
   }
  },
  {
   "cell_type": "markdown",
   "source": [
    " 2. 제너레이터\n",
    "1)누워서 제너레이터 이해하기 / 생성하기\n",
    "-->제너레이터를 사용하면 한번에 데이터를 모아서 처리하지 않기 때문에 큰 메모리를 사용하지 않고 규모가 있는 프로그램을 개발할 때 매우 중요한 요소\n",
    "a. 제너레이터 표현식\n",
    "(x for x in range(0,5+1))\n",
    "b. 튜플 컴프리헨션\n",
    "tuple(x for x in range(0,5+1))\n",
    "** 제너레이터 표현식과 튜플 컴프리헨션 차이점은 앞에 튜플이 붙느냐 안붙느냐로 구분됨\n",
    "c. 제네레이터 함수\n",
    "--> 함수 내에 yield 가 하나라도 있으면 제네레이터 함수"
   ],
   "metadata": {
    "collapsed": false
   }
  },
  {
   "cell_type": "code",
   "execution_count": 16,
   "outputs": [
    {
     "data": {
      "text/plain": "<generator object num_gen at 0x7fd5002cc190>"
     },
     "execution_count": 16,
     "metadata": {},
     "output_type": "execute_result"
    }
   ],
   "source": [
    "#제너레이터 함수 - yield\n",
    "def num_gen():\n",
    "    yield 1\n",
    "    yield 2\n",
    "    yield 3\n",
    "num_gen()"
   ],
   "metadata": {
    "collapsed": false,
    "ExecuteTime": {
     "end_time": "2023-06-28T02:29:20.367785Z",
     "start_time": "2023-06-28T02:29:20.362706Z"
    }
   }
  },
  {
   "cell_type": "code",
   "execution_count": 18,
   "outputs": [
    {
     "name": "stdout",
     "output_type": "stream",
     "text": [
      "1\n"
     ]
    }
   ],
   "source": [
    "print(next(num_gen())) #1예상"
   ],
   "metadata": {
    "collapsed": false,
    "ExecuteTime": {
     "end_time": "2023-06-28T02:32:12.520450Z",
     "start_time": "2023-06-28T02:32:12.516875Z"
    }
   }
  },
  {
   "cell_type": "markdown",
   "source": [
    "num_gen()은 호출할때마다 새롭게 제너레이터를 생성하기 때문에 예상과 다르게 나"
   ],
   "metadata": {
    "collapsed": false
   }
  },
  {
   "cell_type": "code",
   "execution_count": 19,
   "outputs": [
    {
     "name": "stdout",
     "output_type": "stream",
     "text": [
      "1\n",
      "1\n",
      "1\n"
     ]
    }
   ],
   "source": [
    "print(next(num_gen())) #1예상\n",
    "print(next(num_gen())) #2예상\n",
    "print(next(num_gen())) #3예상"
   ],
   "metadata": {
    "collapsed": false,
    "ExecuteTime": {
     "end_time": "2023-06-28T02:32:31.596290Z",
     "start_time": "2023-06-28T02:32:31.586961Z"
    }
   }
  },
  {
   "cell_type": "markdown",
   "source": [
    "생성한 제너레이터를 새로운 변수에 바인딩해주고 그 변수를 이용하면 우리가 만들었던 제너레이터를 계속 사용할 수 있음"
   ],
   "metadata": {
    "collapsed": false
   }
  },
  {
   "cell_type": "code",
   "execution_count": 20,
   "outputs": [
    {
     "name": "stdout",
     "output_type": "stream",
     "text": [
      "1\n",
      "2\n",
      "3\n"
     ]
    }
   ],
   "source": [
    "# 생성한 제너레이터를 새로운 변수에 바인딩\n",
    "g = num_gen()\n",
    "print(next(g))\n",
    "print(next(g))\n",
    "print(next(g))"
   ],
   "metadata": {
    "collapsed": false,
    "ExecuteTime": {
     "end_time": "2023-06-28T02:36:56.112467Z",
     "start_time": "2023-06-28T02:36:56.106745Z"
    }
   }
  },
  {
   "cell_type": "code",
   "execution_count": 24,
   "outputs": [
    {
     "name": "stdout",
     "output_type": "stream",
     "text": [
      "하나\n",
      "둘\n",
      "셋\n"
     ]
    }
   ],
   "source": [
    "def num_gene():\n",
    "    yield '하나'\n",
    "    yield '둘'\n",
    "    yield '셋'\n",
    "num_gene()\n",
    "ge=num_gene()\n",
    "print(next(ge))\n",
    "print(next(ge))\n",
    "print(next(ge))"
   ],
   "metadata": {
    "collapsed": false,
    "ExecuteTime": {
     "end_time": "2023-06-28T02:41:20.670698Z",
     "start_time": "2023-06-28T02:41:20.667397Z"
    }
   }
  },
  {
   "cell_type": "code",
   "execution_count": null,
   "outputs": [],
   "source": [],
   "metadata": {
    "collapsed": false
   }
  }
 ],
 "metadata": {
  "kernelspec": {
   "display_name": "Python 3",
   "language": "python",
   "name": "python3"
  },
  "language_info": {
   "codemirror_mode": {
    "name": "ipython",
    "version": 2
   },
   "file_extension": ".py",
   "mimetype": "text/x-python",
   "name": "python",
   "nbconvert_exporter": "python",
   "pygments_lexer": "ipython2",
   "version": "2.7.6"
  }
 },
 "nbformat": 4,
 "nbformat_minor": 0
}
