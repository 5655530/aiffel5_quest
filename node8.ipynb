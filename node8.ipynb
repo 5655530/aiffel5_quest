{
 "cells": [
  {
   "cell_type": "markdown",
   "source": [
    "## 모듈, 패키지, 라이브러리\n",
    "\n",
    "1. import로 모듈 가져오기\n",
    "1)표준모듈(기본 내장 모듈)\n",
    "모듈(module).py 확장자의 파일을 뜻함\n",
    "이 파일안에 변수나 함수, 클래스 등을 저장할 수 있고 모듈 자체가 실행할 수 있는 코드일수 있다.\n",
    "\n",
    "패키지 : 이런 모듈 여러개를 묶은 것\n",
    "\n",
    "라이브러리 : 모듈과 패키지를 묶은 것\n",
    "\n",
    "정리 : 라이브러리>패키지>모듈>함수,변수,클래스\n",
    "\n",
    "표준모듈 : 파이썬에 기본적으로 내장되어 있는 모듈\n",
    "\n",
    "외부모듈 : 다른 사람들이 만들어서 공개한 모듈\n",
    "\n",
    "표준모듈 불러오기\n",
    "\n",
    "import 모듈명 (as 변경할 변수)\n",
    "\n",
    "import random as r\n",
    "\n",
    "모듈의 함수를 사용할때\n",
    "\n",
    "모듈명.함수명()"
   ],
   "metadata": {
    "collapsed": false
   }
  },
  {
   "cell_type": "code",
   "execution_count": null,
   "outputs": [],
   "source": [],
   "metadata": {
    "collapsed": false
   }
  }
 ],
 "metadata": {
  "kernelspec": {
   "display_name": "Python 3",
   "language": "python",
   "name": "python3"
  },
  "language_info": {
   "codemirror_mode": {
    "name": "ipython",
    "version": 2
   },
   "file_extension": ".py",
   "mimetype": "text/x-python",
   "name": "python",
   "nbconvert_exporter": "python",
   "pygments_lexer": "ipython2",
   "version": "2.7.6"
  }
 },
 "nbformat": 4,
 "nbformat_minor": 0
}
