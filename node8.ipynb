{
 "cells": [
  {
   "cell_type": "markdown",
   "source": [
    "## 모듈, 패키지, 라이브러리\n",
    "\n",
    "1. import로 모듈 가져오기\n",
    "1)표준모듈(기본 내장 모듈)\n",
    "모듈(module).py 확장자의 파일을 뜻함\n",
    "이 파일안에 변수나 함수, 클래스 등을 저장할 수 있고 모듈 자체가 실행할 수 있는 코드일수 있다.\n",
    "\n",
    "패키지 : 이런 모듈 여러개를 묶은 것\n",
    "\n",
    "라이브러리 : 모듈과 패키지를 묶은 것\n",
    "\n",
    "정리 : 라이브러리>패키지>모듈>함수,변수,클래스\n",
    "\n",
    "표준모듈 : 파이썬에 기본적으로 내장되어 있는 모듈\n",
    "\n",
    "외부모듈 : 다른 사람들이 만들어서 공개한 모듈\n",
    "\n",
    "표준모듈 불러오기\n",
    "\n",
    "import 모듈명 (as 변경할 변수)\n",
    "\n",
    "import random as r\n",
    "\n",
    "모듈의 함수를 사용할때\n",
    "\n",
    "모듈명.함수명()"
   ],
   "metadata": {
    "collapsed": false
   }
  },
  {
   "cell_type": "code",
   "execution_count": 1,
   "outputs": [
    {
     "name": "stdout",
     "output_type": "stream",
     "text": [
      "0.5847347842167782\n",
      "0.05637874043507196\n",
      "0.26349129898228696\n",
      "0.011456161985448632\n",
      "0.4523049802032626\n"
     ]
    }
   ],
   "source": [
    "# random 모듈\n",
    "# random() : 0.0 <= x < 1.0 사이의 난수를 출력하는 random 모듈의 함수\n",
    "import random as r\n",
    "import time\n",
    "\n",
    "for i in range(5):\n",
    "    print(r.random())"
   ],
   "metadata": {
    "collapsed": false,
    "ExecuteTime": {
     "end_time": "2023-07-03T08:56:18.529143Z",
     "start_time": "2023-07-03T08:56:18.525264Z"
    }
   }
  },
  {
   "cell_type": "code",
   "execution_count": 2,
   "outputs": [
    {
     "name": "stdout",
     "output_type": "stream",
     "text": [
      "5\n",
      "4\n",
      "7\n",
      "9\n",
      "3\n"
     ]
    }
   ],
   "source": [
    "# randint(a,b) : a <= x <= b 사이의 정수 난수를 출력하는 random 모듈의 함수\n",
    "import random as r\n",
    "for i in range(5):\n",
    "    print(r.randint(1,10))"
   ],
   "metadata": {
    "collapsed": false,
    "ExecuteTime": {
     "end_time": "2023-07-03T08:56:43.011829Z",
     "start_time": "2023-07-03T08:56:43.005511Z"
    }
   }
  },
  {
   "cell_type": "code",
   "execution_count": 3,
   "outputs": [
    {
     "data": {
      "text/plain": "3.141592653589793"
     },
     "execution_count": 3,
     "metadata": {},
     "output_type": "execute_result"
    }
   ],
   "source": [
    "# math 모듈\n",
    "# math 모듈의 함수를 사용하기 위해서는 import math를 먼저 실행해야 한다.\n",
    "import math as m\n",
    "# 원주율\n",
    "m.pi"
   ],
   "metadata": {
    "collapsed": false,
    "ExecuteTime": {
     "end_time": "2023-07-03T08:58:04.437083Z",
     "start_time": "2023-07-03T08:58:04.419182Z"
    }
   }
  },
  {
   "cell_type": "code",
   "execution_count": 4,
   "outputs": [
    {
     "data": {
      "text/plain": "2.718281828459045"
     },
     "execution_count": 4,
     "metadata": {},
     "output_type": "execute_result"
    }
   ],
   "source": [
    "#자연상수\n",
    "m.e"
   ],
   "metadata": {
    "collapsed": false,
    "ExecuteTime": {
     "end_time": "2023-07-03T08:58:35.102929Z",
     "start_time": "2023-07-03T08:58:35.097122Z"
    }
   }
  },
  {
   "cell_type": "code",
   "execution_count": 5,
   "outputs": [
    {
     "data": {
      "text/plain": "8.0"
     },
     "execution_count": 5,
     "metadata": {},
     "output_type": "execute_result"
    }
   ],
   "source": [
    "# 제곱승 pow(n,x) n**x 제곱승 계산 함수\n",
    "m.pow(2,3)"
   ],
   "metadata": {
    "collapsed": false,
    "ExecuteTime": {
     "end_time": "2023-07-03T09:00:17.832312Z",
     "start_time": "2023-07-03T09:00:17.826393Z"
    }
   }
  },
  {
   "cell_type": "code",
   "execution_count": 6,
   "outputs": [
    {
     "data": {
      "text/plain": "2.0"
     },
     "execution_count": 6,
     "metadata": {},
     "output_type": "execute_result"
    }
   ],
   "source": [
    "# 제곱근 sqrt(n) n**0.5 제곱근 계산 함수\n",
    "m.sqrt(4)"
   ],
   "metadata": {
    "collapsed": false,
    "ExecuteTime": {
     "end_time": "2023-07-03T09:00:30.847278Z",
     "start_time": "2023-07-03T09:00:30.841934Z"
    }
   }
  },
  {
   "cell_type": "code",
   "execution_count": 7,
   "outputs": [
    {
     "data": {
      "text/plain": "120"
     },
     "execution_count": 7,
     "metadata": {},
     "output_type": "execute_result"
    }
   ],
   "source": [
    "# factorial(n) n! 계산 함수\n",
    "m.factorial(5)"
   ],
   "metadata": {
    "collapsed": false,
    "ExecuteTime": {
     "end_time": "2023-07-03T09:00:47.605380Z",
     "start_time": "2023-07-03T09:00:47.598216Z"
    }
   }
  },
  {
   "cell_type": "code",
   "execution_count": 8,
   "outputs": [
    {
     "data": {
      "text/plain": "4"
     },
     "execution_count": 8,
     "metadata": {},
     "output_type": "execute_result"
    }
   ],
   "source": [
    "#cile(n) 올림 함수 수직선에서 오른쪽으로 int형 출력\n",
    "m.ceil(3.14)"
   ],
   "metadata": {
    "collapsed": false,
    "ExecuteTime": {
     "end_time": "2023-07-03T09:02:30.519414Z",
     "start_time": "2023-07-03T09:02:30.509621Z"
    }
   }
  },
  {
   "cell_type": "code",
   "execution_count": 9,
   "outputs": [
    {
     "data": {
      "text/plain": "-3"
     },
     "execution_count": 9,
     "metadata": {},
     "output_type": "execute_result"
    }
   ],
   "source": [
    "#올림 #음수\n",
    "m.ceil(-3.14)"
   ],
   "metadata": {
    "collapsed": false,
    "ExecuteTime": {
     "end_time": "2023-07-03T09:02:50.583818Z",
     "start_time": "2023-07-03T09:02:50.578137Z"
    }
   }
  },
  {
   "cell_type": "code",
   "execution_count": 10,
   "outputs": [
    {
     "data": {
      "text/plain": "3"
     },
     "execution_count": 10,
     "metadata": {},
     "output_type": "execute_result"
    }
   ],
   "source": [
    "#floor(n) 내림 함수 수직선에서 왼쪽으로 int형 출력\n",
    "m.floor(3.14)"
   ],
   "metadata": {
    "collapsed": false,
    "ExecuteTime": {
     "end_time": "2023-07-03T09:03:57.015530Z",
     "start_time": "2023-07-03T09:03:57.006635Z"
    }
   }
  },
  {
   "cell_type": "code",
   "execution_count": 11,
   "outputs": [
    {
     "data": {
      "text/plain": "-4"
     },
     "execution_count": 11,
     "metadata": {},
     "output_type": "execute_result"
    }
   ],
   "source": [
    "#내림 #음수\n",
    "m.floor(-3.14)"
   ],
   "metadata": {
    "collapsed": false,
    "ExecuteTime": {
     "end_time": "2023-07-03T09:04:04.216166Z",
     "start_time": "2023-07-03T09:04:04.210503Z"
    }
   }
  },
  {
   "cell_type": "code",
   "execution_count": 13,
   "outputs": [
    {
     "data": {
      "text/plain": "time.struct_time(tm_year=2023, tm_mon=7, tm_mday=3, tm_hour=18, tm_min=5, tm_sec=33, tm_wday=0, tm_yday=184, tm_isdst=0)"
     },
     "execution_count": 13,
     "metadata": {},
     "output_type": "execute_result"
    }
   ],
   "source": [
    "# time 모듈\n",
    "# time 모듈의 함수를 사용하기 위해서는 import time을 먼저 실행해야 한다.\n",
    "# 코드 실행 순간의 시간 정보 아홉가지를 튜플로 출력\n",
    "import time as t\n",
    "t.localtime()"
   ],
   "metadata": {
    "collapsed": false,
    "ExecuteTime": {
     "end_time": "2023-07-03T09:05:33.127517Z",
     "start_time": "2023-07-03T09:05:33.121959Z"
    }
   }
  },
  {
   "cell_type": "code",
   "execution_count": 14,
   "outputs": [
    {
     "data": {
      "text/plain": "2023"
     },
     "execution_count": 14,
     "metadata": {},
     "output_type": "execute_result"
    }
   ],
   "source": [
    "# 필요한 정보만 슬라이싱\n",
    "t.localtime()[0]"
   ],
   "metadata": {
    "collapsed": false,
    "ExecuteTime": {
     "end_time": "2023-07-03T09:06:48.202932Z",
     "start_time": "2023-07-03T09:06:48.167604Z"
    }
   }
  },
  {
   "cell_type": "code",
   "execution_count": 15,
   "outputs": [
    {
     "data": {
      "text/plain": "True"
     },
     "execution_count": 15,
     "metadata": {},
     "output_type": "execute_result"
    }
   ],
   "source": [
    "#keyword 모듈\n",
    "#iskeyword() : 키워드인지 아닌지 판단하는 함수\n",
    "import keyword as k\n",
    "k.iskeyword('if')"
   ],
   "metadata": {
    "collapsed": false,
    "ExecuteTime": {
     "end_time": "2023-07-03T09:08:06.213233Z",
     "start_time": "2023-07-03T09:08:06.207911Z"
    }
   }
  },
  {
   "cell_type": "markdown",
   "source": [
    "2)from import로 모듈 일부만 가져오기\n",
    "\n",
    "모듈 전체가 아니라 필요한 부분만 가져올 수 있다.\n",
    "from 모듈명 import 일부분\n",
    "\n",
    "모듈의 이름 없이 일부분이 단독으로 사용 가능하다.\n",
    "ex) from math import pi\n",
    "ex) from math import pow"
   ],
   "metadata": {
    "collapsed": false
   }
  }
 ],
 "metadata": {
  "kernelspec": {
   "display_name": "Python 3",
   "language": "python",
   "name": "python3"
  },
  "language_info": {
   "codemirror_mode": {
    "name": "ipython",
    "version": 2
   },
   "file_extension": ".py",
   "mimetype": "text/x-python",
   "name": "python",
   "nbconvert_exporter": "python",
   "pygments_lexer": "ipython2",
   "version": "2.7.6"
  }
 },
 "nbformat": 4,
 "nbformat_minor": 0
}
