{
 "cells": [
  {
   "cell_type": "markdown",
   "source": [
    "# 3. 리스트, 딕셔너리 다루기\n",
    "1) 다차원 리스트"
   ],
   "metadata": {
    "collapsed": false
   }
  },
  {
   "cell_type": "markdown",
   "source": [
    "2차원 리스트"
   ],
   "metadata": {
    "collapsed": false
   }
  },
  {
   "cell_type": "code",
   "execution_count": 1,
   "outputs": [],
   "source": [
    "list_tw = [[1,2],[\"ㄱ\",\"ㄴ\"],[\"a\",\"b\"]]"
   ],
   "metadata": {
    "collapsed": false,
    "ExecuteTime": {
     "end_time": "2023-06-27T06:14:08.823233Z",
     "start_time": "2023-06-27T06:14:08.819644Z"
    }
   }
  },
  {
   "cell_type": "markdown",
   "source": [
    "3행 1열 출력\n",
    "list_tw[2][0]\n",
    "'a'\n",
    "2행 2열 출력\n",
    "list_tw[1][1]\n",
    "'ㄴ'"
   ],
   "metadata": {
    "collapsed": false
   }
  },
  {
   "cell_type": "markdown",
   "source": [
    "3차원 리스트\n"
   ],
   "metadata": {
    "collapsed": false
   }
  },
  {
   "cell_type": "code",
   "execution_count": null,
   "outputs": [],
   "source": [
    "list_th = [[[1,2,3],[4,5,6],[7,8,9],[10,11,12]]\\[[a,b,c],[d,e,f],[g,h,i],[j,k,l]]]"
   ],
   "metadata": {
    "collapsed": false
   }
  },
  {
   "cell_type": "markdown",
   "source": [
    "뎁스를 먼저 쓰고 그다음 행 열 순으로 인덱싱 한다\n",
    "list_th[0][0][:] --> [1,2,3]\n",
    "list_th[1][0][2] --> 'c'"
   ],
   "metadata": {
    "collapsed": false
   }
  },
  {
   "cell_type": "code",
   "execution_count": null,
   "outputs": [],
   "source": [
    "sdafd"
   ],
   "metadata": {
    "collapsed": false
   }
  },
  {
   "cell_type": "code",
   "execution_count": null,
   "outputs": [],
   "source": [],
   "metadata": {
    "collapsed": false
   }
  }
 ],
 "metadata": {
  "kernelspec": {
   "display_name": "Python 3",
   "language": "python",
   "name": "python3"
  },
  "language_info": {
   "codemirror_mode": {
    "name": "ipython",
    "version": 2
   },
   "file_extension": ".py",
   "mimetype": "text/x-python",
   "name": "python",
   "nbconvert_exporter": "python",
   "pygments_lexer": "ipython2",
   "version": "2.7.6"
  }
 },
 "nbformat": 4,
 "nbformat_minor": 0
}
