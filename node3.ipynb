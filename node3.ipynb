{
 "cells": [
  {
   "cell_type": "markdown",
   "source": [
    "# 3. 리스트, 딕셔너리 다루기\n",
    "1) 다차원 리스트"
   ],
   "metadata": {
    "collapsed": false
   }
  },
  {
   "cell_type": "markdown",
   "source": [
    "2차원 리스트"
   ],
   "metadata": {
    "collapsed": false
   }
  },
  {
   "cell_type": "code",
   "execution_count": 1,
   "outputs": [],
   "source": [
    "list_tw = [[1,2],[\"ㄱ\",\"ㄴ\"],[\"a\",\"b\"]]"
   ],
   "metadata": {
    "collapsed": false,
    "ExecuteTime": {
     "end_time": "2023-06-27T06:14:08.823233Z",
     "start_time": "2023-06-27T06:14:08.819644Z"
    }
   }
  },
  {
   "cell_type": "markdown",
   "source": [
    "3행 1열 출력\n",
    "list_tw[2][0]\n",
    "'a'\n",
    "2행 2열 출력\n",
    "list_tw[1][1]\n",
    "'ㄴ'\n",
    "2차원 리스트의 len() 함수는 행의 길이를 나타냄\n",
    "2번행을 모두 출력\n",
    "list_tw[2]"
   ],
   "metadata": {
    "collapsed": false
   }
  },
  {
   "cell_type": "markdown",
   "source": [
    "3차원 리스트\n"
   ],
   "metadata": {
    "collapsed": false
   }
  },
  {
   "cell_type": "code",
   "execution_count": 18,
   "outputs": [
    {
     "data": {
      "text/plain": "'c'"
     },
     "execution_count": 18,
     "metadata": {},
     "output_type": "execute_result"
    }
   ],
   "source": [
    "list_th = [[[1,2,3],[4,5,6],[7,8,9],[10,11,12]],[[\"a\",\"b\",\"c\"],[\"d\",\"e\",\"f\"],[\"g\",\"h\",\"i\"],[\"j\",\"k\",\"l\"]]]\n",
    "\n",
    "list_th[0][0]"
   ],
   "metadata": {
    "collapsed": false,
    "ExecuteTime": {
     "end_time": "2023-06-27T07:24:37.232606Z",
     "start_time": "2023-06-27T07:24:37.228358Z"
    }
   }
  },
  {
   "cell_type": "markdown",
   "source": [
    "[1,2,3]이 나오도록 3차원 리스트를 인덱싱 하려면\n",
    "뎁스와 행의 인덱스가 0이고 열은 전체를 인덱싱 해야 해서 생략가능 함\n",
    "\n",
    "뎁스를 먼저 쓰고 그다음 행 열 순으로 인덱싱 한다\n",
    "\n",
    "list_th[0][0][:] --> [1,2,3]\n",
    "\n",
    "list_th[1][0][2] --> 'c'\n",
    "\n",
    "3차원 리스트 len함수 적용\n",
    "len(list_th)  --> 2 (뎁스 길이가 나옴, 첫번째 순서가 뎁스)"
   ],
   "metadata": {
    "collapsed": false
   }
  },
  {
   "cell_type": "markdown",
   "source": [
    "2) 리스트 함수"
   ],
   "metadata": {
    "collapsed": false
   }
  },
  {
   "cell_type": "markdown",
   "source": [
    "+min(), max()\n",
    "요소가 모두 숫자명일때"
   ],
   "metadata": {
    "collapsed": false
   }
  },
  {
   "cell_type": "code",
   "execution_count": 2,
   "outputs": [
    {
     "data": {
      "text/plain": "60"
     },
     "execution_count": 2,
     "metadata": {},
     "output_type": "execute_result"
    }
   ],
   "source": [
    "kims_age = [60,22,45,23,45,23,45]\n",
    "max(kims_age)"
   ],
   "metadata": {
    "collapsed": false,
    "ExecuteTime": {
     "end_time": "2023-06-27T06:50:39.531359Z",
     "start_time": "2023-06-27T06:50:39.514917Z"
    }
   }
  },
  {
   "cell_type": "code",
   "execution_count": 3,
   "outputs": [
    {
     "data": {
      "text/plain": "22"
     },
     "execution_count": 3,
     "metadata": {},
     "output_type": "execute_result"
    }
   ],
   "source": [
    "kims_age = [60,22,45,23,45,23,45]\n",
    "min(kims_age)"
   ],
   "metadata": {
    "collapsed": false,
    "ExecuteTime": {
     "end_time": "2023-06-27T06:51:24.590812Z",
     "start_time": "2023-06-27T06:51:24.583909Z"
    }
   }
  },
  {
   "cell_type": "markdown",
   "source": [
    "** 숫자열과 문자열이 섞여 있으면 min/max는 오류가 난다"
   ],
   "metadata": {
    "collapsed": false
   }
  },
  {
   "cell_type": "markdown",
   "source": [
    "요소에 문자만 있을때는 아스키코드로 결정한다.\n",
    "아스키코드를 문자열로 변환하는 함수는 chr()\n",
    "문자열을 아스키코드로 변환하는 함수는 ord()"
   ],
   "metadata": {
    "collapsed": false
   }
  },
  {
   "cell_type": "code",
   "execution_count": 5,
   "outputs": [
    {
     "data": {
      "text/plain": "'크라바츠헬리아'"
     },
     "execution_count": 5,
     "metadata": {},
     "output_type": "execute_result"
    }
   ],
   "source": [
    "#문자열만 있을때 min/max 함수 사용 예시\n",
    "napoli_player = ['minjae','크라바츠헬리아','Osimhen', 'Anguissa']\n",
    "min(napoli_player)\n",
    "max(napoli_player)"
   ],
   "metadata": {
    "collapsed": false,
    "ExecuteTime": {
     "end_time": "2023-06-27T06:58:07.199206Z",
     "start_time": "2023-06-27T06:58:07.188239Z"
    }
   }
  },
  {
   "cell_type": "markdown",
   "source": [
    "+sum()\n",
    "리스트나 튜플의 숫자형 자료형을 모두 더하는 함수"
   ],
   "metadata": {
    "collapsed": false
   }
  },
  {
   "cell_type": "code",
   "execution_count": 7,
   "outputs": [
    {
     "name": "stdout",
     "output_type": "stream",
     "text": [
      "263\n"
     ]
    }
   ],
   "source": [
    "total_sum =0\n",
    "for i in kims_age:\n",
    "    total_sum += i\n",
    "print(total_sum)"
   ],
   "metadata": {
    "collapsed": false,
    "ExecuteTime": {
     "end_time": "2023-06-27T07:03:26.043527Z",
     "start_time": "2023-06-27T07:03:26.033417Z"
    }
   }
  },
  {
   "cell_type": "code",
   "execution_count": 8,
   "outputs": [
    {
     "data": {
      "text/plain": "263"
     },
     "execution_count": 8,
     "metadata": {},
     "output_type": "execute_result"
    }
   ],
   "source": [
    "sum(kims_age)"
   ],
   "metadata": {
    "collapsed": false,
    "ExecuteTime": {
     "end_time": "2023-06-27T07:04:56.956504Z",
     "start_time": "2023-06-27T07:04:56.938273Z"
    }
   }
  },
  {
   "cell_type": "markdown",
   "source": [
    "enumerate()\n",
    "리스트 원소에 순서값을 부여해주는 함수"
   ],
   "metadata": {
    "collapsed": false
   }
  },
  {
   "cell_type": "code",
   "execution_count": 9,
   "outputs": [
    {
     "name": "stdout",
     "output_type": "stream",
     "text": [
      "(0, 60)\n",
      "(1, 22)\n",
      "(2, 45)\n",
      "(3, 23)\n",
      "(4, 45)\n",
      "(5, 23)\n",
      "(6, 45)\n"
     ]
    }
   ],
   "source": [
    "for i in enumerate(kims_age):\n",
    "    print(i)"
   ],
   "metadata": {
    "collapsed": false,
    "ExecuteTime": {
     "end_time": "2023-06-27T07:06:52.224430Z",
     "start_time": "2023-06-27T07:06:52.203867Z"
    }
   }
  },
  {
   "cell_type": "markdown",
   "source": [
    "zip()\n",
    "여러개의 순회가능한 객체를 인자로 받고, 각 객체가 담고 있는 원소를 이터러블의 형태로 차례로 접근할 수 있는 반복자를 반환\n",
    "-->순회가능한 반복자를 반환한다."
   ],
   "metadata": {
    "collapsed": false
   }
  },
  {
   "cell_type": "code",
   "execution_count": 10,
   "outputs": [
    {
     "name": "stdout",
     "output_type": "stream",
     "text": [
      "(3, 'minjae')\n",
      "(77, '크라바츠헬리아')\n",
      "(9, 'Osimhen')\n",
      "(99, 'Anguissa')\n"
     ]
    }
   ],
   "source": [
    "napoli_num = [3,77,9,99]\n",
    "napoli_player = ['minjae','크라바츠헬리아','Osimhen', 'Anguissa']\n",
    "\n",
    "for i in zip(napoli_num,napoli_player):\n",
    "    print(i)"
   ],
   "metadata": {
    "collapsed": false,
    "ExecuteTime": {
     "end_time": "2023-06-27T07:09:47.597957Z",
     "start_time": "2023-06-27T07:09:47.567441Z"
    }
   }
  },
  {
   "cell_type": "code",
   "execution_count": null,
   "outputs": [],
   "source": [],
   "metadata": {
    "collapsed": false
   }
  }
 ],
 "metadata": {
  "kernelspec": {
   "display_name": "Python 3",
   "language": "python",
   "name": "python3"
  },
  "language_info": {
   "codemirror_mode": {
    "name": "ipython",
    "version": 2
   },
   "file_extension": ".py",
   "mimetype": "text/x-python",
   "name": "python",
   "nbconvert_exporter": "python",
   "pygments_lexer": "ipython2",
   "version": "2.7.6"
  }
 },
 "nbformat": 4,
 "nbformat_minor": 0
}
